{
 "cells": [
  {
   "cell_type": "markdown",
   "id": "cf7d87cf-6ec3-43fd-87b4-2be8191fb40b",
   "metadata": {},
   "source": [
    "### VJ Gene Assignment\n",
    "In this example, we'll see how to find the closest V and J genes in AntPack's database\n",
    "for an input sequence, get the sequences of those VJ genes, get the sequence of\n",
    "all VJ genes in the same family, and see the date when AntPack's database\n",
    "was last updated."
   ]
  },
  {
   "cell_type": "code",
   "execution_count": 1,
   "id": "c7ac6899-f482-4041-a5f5-83faa2f95a36",
   "metadata": {},
   "outputs": [],
   "source": [
    "from antpack import VJGeneTool, SingleChainAnnotator\n",
    "\n",
    "vj_tool = VJGeneTool()"
   ]
  },
  {
   "cell_type": "code",
   "execution_count": 2,
   "id": "f793ac5b-24d0-4de4-ab22-746db7425568",
   "metadata": {},
   "outputs": [],
   "source": [
    "test_sequence = \"VQLVQSGAEVKKPGSSVKVSCKASGGTFSSYAISWVRQAPGQGLEWMGGIIPIFQKFQGRVTITADESTSTAYMELSSLRSEDTAVYYCARYDGIYGELDFWGQGTLVTVSS\""
   ]
  },
  {
   "cell_type": "markdown",
   "id": "6e28b268-0390-4542-8fda-708cfed07aee",
   "metadata": {},
   "source": [
    "We can number the sequence first using ``SingleChainAnnotator``, because we'll often need the numbering\n",
    "for other tasks, and then pass that numbering to ``vj_tool.assign_numbered_sequence()``. Or, we can ask\n",
    "vj_tool to number for us. Note that if we enter a sequence with invalid amino acids (e.g. X or -), or we\n",
    "supply an invalid species (not one of 'human', 'mouse'), or we supply\n",
    "other invalid input, the tool will return None for both V and J genes."
   ]
  },
  {
   "cell_type": "code",
   "execution_count": 3,
   "id": "c60d2459-3262-4695-8f72-e5980601d3cd",
   "metadata": {},
   "outputs": [],
   "source": [
    "v_gene, j_gene, v_percent_identity, j_percent_identity = vj_tool.assign_sequence(test_sequence, species=\"human\")"
   ]
  },
  {
   "cell_type": "code",
   "execution_count": 4,
   "id": "b83d1d28-4c95-4146-ac9d-c9eaadee47d1",
   "metadata": {},
   "outputs": [
    {
     "name": "stdout",
     "output_type": "stream",
     "text": [
      "IGHV1-69*01\n",
      "IGHJ4*01\n",
      "0.8877551020408163\n",
      "0.8571428571428571\n"
     ]
    }
   ],
   "source": [
    "print(v_gene)\n",
    "print(j_gene)\n",
    "print(v_percent_identity)\n",
    "print(j_percent_identity)"
   ]
  },
  {
   "cell_type": "markdown",
   "id": "f35b5948-7e56-41d0-9e81-f319784ff022",
   "metadata": {},
   "source": [
    "If we need to, we can see what the sequence of those genes are. AntPack stores those sequences in its internal\n",
    "db pre-aligned using the IMGT numbering scheme, so each sequence will be length 128 with gaps inserted as appropriate.\n",
    "We can use SingleChainAnnotator to number the sequence, then we can do some simple manipulation to\n",
    "convert the numbered sequence to the same format so we can see how well it lines up. The IMGT scheme contains\n",
    "128 positions (any letters above and beyond this are designated with a letter), so when annotating\n",
    "our input sequence to get it to match up to the V-gene, we just extract numbered positions where the\n",
    "number is in 1 through 128 as illustrated below."
   ]
  },
  {
   "cell_type": "code",
   "execution_count": 5,
   "id": "48e793b5-2a50-4088-af8f-f74d3ad0db7d",
   "metadata": {},
   "outputs": [
    {
     "name": "stdout",
     "output_type": "stream",
     "text": [
      "QVQLVQSGA-EVKKPGSSVKVSCKASGGTF----SSYAISWVRQAPGQGLEWMGGIIPI--FGTANYAQKFQ-GRVTITADESTSTAYMELSSLRSEDTAVYYCAR----------------------\n",
      "------------------------------------------------------------------------------------------------------------------FDYWGQGTLVTVSS\n",
      "-VQLVQSGA-EVKKPGSSVKVSCKASGGTF----SSYAISWVRQAPGQGLEWMGGI--------IPIFQKFQ-GRVTITADESTSTAYMELSSLRSEDTAVYYCARYDGI-YGELDFWGQGTLVTVS-\n"
     ]
    }
   ],
   "source": [
    "# Get the V and J gene sequences\n",
    "vgene_seq = vj_tool.get_vj_gene_sequence(\"IGHV1-69*01\", species=\"human\")\n",
    "jgene_seq = vj_tool.get_vj_gene_sequence(\"IGHJ4*01\")\n",
    "\n",
    "# Now let's prep our input sequence so it can be directly compared to the V and J gene.\n",
    "\n",
    "ntool = SingleChainAnnotator()\n",
    "numbering, _, _, _ = ntool.analyze_seq(test_sequence)\n",
    "\n",
    "formatted_seq = [\"-\" for i in range(128)]\n",
    "expected_positions = {str(i) for i in range(128)}\n",
    "\n",
    "for ntoken, letter in zip(numbering, test_sequence):\n",
    "    if ntoken in expected_positions:\n",
    "        # We have to subtract 1 here because Python numbers from 0, IMGT numbers from 1.\n",
    "        formatted_seq[int(ntoken) - 1] = letter\n",
    "\n",
    "print(vgene_seq)\n",
    "print(jgene_seq)\n",
    "print(\"\".join(formatted_seq))"
   ]
  },
  {
   "cell_type": "markdown",
   "id": "82696c1b-8cff-433e-a8e4-e8926b2cbe99",
   "metadata": {},
   "source": [
    "If we want to, we can also see the sequences of all other V and J genes in this family (or any other family of\n",
    "interest for that matter). As an example, let's pull the sequences and names of all V genes for humans\n",
    "in family IGHV1. These are not guaranteed to be returned in any particular order."
   ]
  },
  {
   "cell_type": "code",
   "execution_count": 6,
   "id": "4916eac3-389d-45ab-9f31-5fd263d4c28c",
   "metadata": {},
   "outputs": [
    {
     "name": "stdout",
     "output_type": "stream",
     "text": [
      "['QVQLVQSGA-EVKKPGASVKVSCKASGYTF----TSYGISWVRQAPGQGLEWMGWISAY--NGNTNYAQKLQ-GRVTMTTDTSTSTAYMELRSLRSDDTAVYYCAR----------------------', 'QVQLVQSGA-EVKKPGASVKVSCKASGYTF----TSYGISWVRQAPGQGLEWMGWISAY--NGNTNYAQKLQ-GRVTMTTDTSTSTAYMELRSLRSDDMAVYYCAR----------------------', 'QVQLVQSGA-EVKKPGASVKVSCKASGYTF----TSYGISWVRQAPGQGLEWMGWISAY--NGNTNYAQKLQ-GRVTMTTDTSTSTAYMELRSLRSDDTAVYYCAR----------------------', 'QVQLVQSGA-EVKKPGASVKVSCKASGYTF----TGYYMHWVRQAPGQGLEWMGRINPN--SGGTNYAQKFQ-GRVTSTRDTSISTAYMELSRLRSDDTVVYYCAR----------------------', 'QVQLVQSGA-EVKKPGASVKVSCKASGYTF----TGYYMHWVRQAPGQGLEWMGWINPN--SGGTNYAQKFQ-GRVTMTRDTSISTAYMELSRLRSDDTAVYYCAR----------------------']\n",
      "['IGHV1-18*01', 'IGHV1-18*03', 'IGHV1-18*04', 'IGHV1-2*01', 'IGHV1-2*02']\n"
     ]
    }
   ],
   "source": [
    "sequences, names = vj_tool.get_vj_gene_family(\"IGHV1\", species=\"human\")\n",
    "print(sequences[:5])\n",
    "print(names[:5])"
   ]
  },
  {
   "cell_type": "markdown",
   "id": "ff2fe822-1a14-4c14-b575-8ed319a66915",
   "metadata": {},
   "source": [
    "Finally, let's see when AntPack's VJ database was last updated. Note that AntPack's VJ database is pulled from\n",
    "IMGT's but with some exclusions -- we exclude for example genes where the functionality is not \"F\" or the\n",
    "gene is partial. This also indicates which species and receptors are currently supported."
   ]
  },
  {
   "cell_type": "code",
   "execution_count": 7,
   "id": "85c15d67-4452-4d96-bba5-e2c63241adb3",
   "metadata": {},
   "outputs": [
    {
     "data": {
      "text/plain": [
       "{'human': {'IGKV': '2024-05-13',\n",
       "  'IGLV': '2024-05-13',\n",
       "  'IGLJ': '2024-05-13',\n",
       "  'IGHV': '2024-05-13',\n",
       "  'IGHJ': '2024-05-13',\n",
       "  'IGKJ': '2024-05-13'},\n",
       " 'mouse': {'IGKV': '2024-05-13',\n",
       "  'IGLV': '2024-05-13',\n",
       "  'IGHJ': '2024-05-13',\n",
       "  'IGLJ': '2024-05-13',\n",
       "  'IGHV': '2024-05-13',\n",
       "  'IGKJ': '2024-05-13'}}"
      ]
     },
     "execution_count": 7,
     "metadata": {},
     "output_type": "execute_result"
    }
   ],
   "source": [
    "vj_tool.retrieve_db_dates()"
   ]
  },
  {
   "cell_type": "code",
   "execution_count": null,
   "id": "6087aa65-2423-42ef-8d8f-9a93eb0582eb",
   "metadata": {},
   "outputs": [],
   "source": []
  },
  {
   "cell_type": "code",
   "execution_count": null,
   "id": "e8e74eb8-5eb5-49d0-9ea4-114c6574f164",
   "metadata": {},
   "outputs": [],
   "source": []
  },
  {
   "cell_type": "code",
   "execution_count": null,
   "id": "4ee5c182-1b8b-4728-ac11-6f7860b1ecb1",
   "metadata": {},
   "outputs": [],
   "source": []
  }
 ],
 "metadata": {
  "kernelspec": {
   "display_name": "Python 3 (ipykernel)",
   "language": "python",
   "name": "python3"
  },
  "language_info": {
   "codemirror_mode": {
    "name": "ipython",
    "version": 3
   },
   "file_extension": ".py",
   "mimetype": "text/x-python",
   "name": "python",
   "nbconvert_exporter": "python",
   "pygments_lexer": "ipython3",
   "version": "3.10.12"
  }
 },
 "nbformat": 4,
 "nbformat_minor": 5
}
