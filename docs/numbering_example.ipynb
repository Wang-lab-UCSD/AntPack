{
 "cells": [
  {
   "cell_type": "markdown",
   "id": "c8deb308-797f-4146-90a8-625143362d41",
   "metadata": {},
   "source": [
    "### Sequence numbering\n",
    "In this notebook, we illustrate how to use the SingleChainAnnotator tool to determine\n",
    "whether a sequence is heavy or light (lambda, kappa) chain and number it."
   ]
  },
  {
   "cell_type": "code",
   "execution_count": 1,
   "id": "474077a3-7d7d-46e8-8698-5dcd8b4c9ead",
   "metadata": {},
   "outputs": [],
   "source": [
    "from antpack import SingleChainAnnotator\n",
    "\n",
    "my_sequence = \"AAAAAAAEVHLQQSGAELMKPGASVKISCKASGYTFITYWIEWVKQRPGHGLEWIGDILPGSGSTNYNENFKGKATFTADSSSNTAYMQLSSLTSEDSAVYYCARSGYYGNSGFAYWGQGTLVTVSA\"\n"
   ]
  },
  {
   "cell_type": "markdown",
   "id": "e79b99e1-74cd-4ec4-a10b-ba5a07a34953",
   "metadata": {},
   "source": [
    "By passing [\"H\", \"K\", \"L\"] (the default) we ensure the annotator will align each sequence to\n",
    "heavy, kappa and lambda (kappa and lambda are different variants of light chains)\n",
    "and will determine the type of the chain based on which option returns the best\n",
    "alignment. If we KNOW our chains are all \"H\", we could pass \"H\" as the only\n",
    "option, and this will improve speed slightly. In general however this isn't\n",
    "necessary."
   ]
  },
  {
   "cell_type": "code",
   "execution_count": 2,
   "id": "27f2061e-6a23-4272-adcc-ba45694ad58e",
   "metadata": {},
   "outputs": [],
   "source": [
    "my_annotator = SingleChainAnnotator([\"H\", \"K\", \"L\"], scheme = \"imgt\")"
   ]
  },
  {
   "cell_type": "code",
   "execution_count": 3,
   "id": "afb4cedb-dd26-48a3-a5b3-b342d061ac60",
   "metadata": {},
   "outputs": [],
   "source": [
    "numbering, percent_identity, chain_type, err_message = my_annotator.analyze_seq(my_sequence)"
   ]
  },
  {
   "cell_type": "markdown",
   "id": "a8f26b83-34dc-4ca8-8a20-cd430542a3da",
   "metadata": {},
   "source": [
    "The numbering is a list of the same length as the input sequence where each element is either\n",
    "\"-\" (a gap, meaning there's no numbering assignment that corresponds to that amino acid or\n",
    "a numbering assignment."
   ]
  },
  {
   "cell_type": "code",
   "execution_count": 4,
   "id": "c7aa9045-93c7-4cdc-a407-85c290913781",
   "metadata": {},
   "outputs": [
    {
     "name": "stdout",
     "output_type": "stream",
     "text": [
      "['-', '-', '-', '-', '-', '-', '-', '1', '2', '3', '4', '5', '6', '7', '8', '9', '11', '12', '13', '14', '15', '16', '17', '18', '19', '20', '21', '22', '23', '24', '25', '26', '27', '28', '29', '30', '35', '36', '37', '38', '39', '40', '41', '42', '43', '44', '45', '46', '47', '48', '49', '50', '51', '52', '53', '54', '55', '56', '57', '58', '59', '62', '63', '64', '65', '66', '67', '68', '69', '70', '71', '72', '74', '75', '76', '77', '78', '79', '80', '81', '82', '83', '84', '85', '86', '87', '88', '89', '90', '91', '92', '93', '94', '95', '96', '97', '98', '99', '100', '101', '102', '103', '104', '105', '106', '107', '108', '109', '110', '111', '112', '113', '114', '115', '116', '117', '118', '119', '120', '121', '122', '123', '124', '125', '126', '127', '128']\n",
      "\n",
      "\n",
      "AAAAAAAEVHLQQSGAELMKPGASVKISCKASGYTFITYWIEWVKQRPGHGLEWIGDILPGSGSTNYNENFKGKATFTADSSSNTAYMQLSSLTSEDSAVYYCARSGYYGNSGFAYWGQGTLVTVSA\n",
      "\n",
      "\n",
      "[('-', 'A'), ('-', 'A'), ('-', 'A'), ('-', 'A'), ('-', 'A'), ('-', 'A'), ('-', 'A'), ('1', 'E'), ('2', 'V'), ('3', 'H'), ('4', 'L'), ('5', 'Q'), ('6', 'Q'), ('7', 'S'), ('8', 'G'), ('9', 'A'), ('11', 'E'), ('12', 'L'), ('13', 'M'), ('14', 'K'), ('15', 'P'), ('16', 'G'), ('17', 'A'), ('18', 'S'), ('19', 'V'), ('20', 'K'), ('21', 'I'), ('22', 'S'), ('23', 'C'), ('24', 'K'), ('25', 'A'), ('26', 'S'), ('27', 'G'), ('28', 'Y'), ('29', 'T'), ('30', 'F'), ('35', 'I'), ('36', 'T'), ('37', 'Y'), ('38', 'W'), ('39', 'I'), ('40', 'E'), ('41', 'W'), ('42', 'V'), ('43', 'K'), ('44', 'Q'), ('45', 'R'), ('46', 'P'), ('47', 'G'), ('48', 'H'), ('49', 'G'), ('50', 'L'), ('51', 'E'), ('52', 'W'), ('53', 'I'), ('54', 'G'), ('55', 'D'), ('56', 'I'), ('57', 'L'), ('58', 'P'), ('59', 'G'), ('62', 'S'), ('63', 'G'), ('64', 'S'), ('65', 'T'), ('66', 'N'), ('67', 'Y'), ('68', 'N'), ('69', 'E'), ('70', 'N'), ('71', 'F'), ('72', 'K'), ('74', 'G'), ('75', 'K'), ('76', 'A'), ('77', 'T'), ('78', 'F'), ('79', 'T'), ('80', 'A'), ('81', 'D'), ('82', 'S'), ('83', 'S'), ('84', 'S'), ('85', 'N'), ('86', 'T'), ('87', 'A'), ('88', 'Y'), ('89', 'M'), ('90', 'Q'), ('91', 'L'), ('92', 'S'), ('93', 'S'), ('94', 'L'), ('95', 'T'), ('96', 'S'), ('97', 'E'), ('98', 'D'), ('99', 'S'), ('100', 'A'), ('101', 'V'), ('102', 'Y'), ('103', 'Y'), ('104', 'C'), ('105', 'A'), ('106', 'R'), ('107', 'S'), ('108', 'G'), ('109', 'Y'), ('110', 'Y'), ('111', 'G'), ('112', 'N'), ('113', 'S'), ('114', 'G'), ('115', 'F'), ('116', 'A'), ('117', 'Y'), ('118', 'W'), ('119', 'G'), ('120', 'Q'), ('121', 'G'), ('122', 'T'), ('123', 'L'), ('124', 'V'), ('125', 'T'), ('126', 'V'), ('127', 'S'), ('128', 'A')]\n"
     ]
    }
   ],
   "source": [
    "print(f\"{numbering}\\n\\n\")\n",
    "print(f\"{my_sequence}\\n\\n\")\n",
    "print([(a, z) for a, z in zip(numbering, my_sequence)])"
   ]
  },
  {
   "cell_type": "markdown",
   "id": "b439b854-2f93-4bd2-beee-573b3dcd1abe",
   "metadata": {},
   "source": [
    "SingleChainAnnotator determined this was a heavy chain (\"H\"). \"K\" and \"L\" both correspond to light\n",
    "chains (kappa and lambda)."
   ]
  },
  {
   "cell_type": "code",
   "execution_count": 5,
   "id": "a0c46026-021e-4ebf-aaef-87327932ff23",
   "metadata": {},
   "outputs": [
    {
     "name": "stdout",
     "output_type": "stream",
     "text": [
      "H\n"
     ]
    }
   ],
   "source": [
    "print(chain_type)"
   ]
  },
  {
   "cell_type": "markdown",
   "id": "457d00d6-dc85-4c32-bab2-0fe0931b8c34",
   "metadata": {},
   "source": [
    "A low percent identity (<< 0.8) could mean this isn't an antibody sequence, contains large\n",
    "deletions, or some other issue. In this case, no problems."
   ]
  },
  {
   "cell_type": "code",
   "execution_count": 6,
   "id": "fb64bbf5-97a0-4bd9-8f08-ab85150ecb56",
   "metadata": {},
   "outputs": [
    {
     "name": "stdout",
     "output_type": "stream",
     "text": [
      "0.9659090909090909\n"
     ]
    }
   ],
   "source": [
    "print(percent_identity)"
   ]
  },
  {
   "cell_type": "markdown",
   "id": "10bd7604-7dd8-4dc5-acf8-ec56f090b114",
   "metadata": {},
   "source": [
    "Finally, if the error message is anything other than \"\", something went wrong. The most common\n",
    "error message indicates an unexpected amino acid was found at a highly conserved position --\n",
    "this usually occurs if there is a very large N or C terminal deletion. In this case we're fine."
   ]
  },
  {
   "cell_type": "code",
   "execution_count": 7,
   "id": "d2c98c9c-153e-4d9f-8244-e7e7cf8f83a8",
   "metadata": {},
   "outputs": [
    {
     "name": "stdout",
     "output_type": "stream",
     "text": [
      "\n"
     ]
    }
   ],
   "source": [
    "print(err_message)"
   ]
  },
  {
   "cell_type": "markdown",
   "id": "1a264c8f-cb5c-4b13-9853-285188a13702",
   "metadata": {},
   "source": [
    "Note that above we used ``analyze_seq`` to analyze a single sequence. If we have a list\n",
    "of sequences we can use ``analyze_seqs``, or we can loop over our list and feed each\n",
    "sequence to ``analyze_seq`` as we go."
   ]
  },
  {
   "cell_type": "code",
   "execution_count": null,
   "id": "5cd6427a-71a3-4f02-b9a5-b8cec599b0e6",
   "metadata": {},
   "outputs": [],
   "source": []
  }
 ],
 "metadata": {
  "kernelspec": {
   "display_name": "Python 3 (ipykernel)",
   "language": "python",
   "name": "python3"
  },
  "language_info": {
   "codemirror_mode": {
    "name": "ipython",
    "version": 3
   },
   "file_extension": ".py",
   "mimetype": "text/x-python",
   "name": "python",
   "nbconvert_exporter": "python",
   "pygments_lexer": "ipython3",
   "version": "3.10.12"
  }
 },
 "nbformat": 4,
 "nbformat_minor": 5
}
